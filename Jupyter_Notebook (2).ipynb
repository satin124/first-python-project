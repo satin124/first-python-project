{
 "cells": [
  {
   "cell_type": "markdown",
   "metadata": {},
   "source": [
    "<center>\n",
    "    <img src=\"https://cf-courses-data.s3.us.cloud-object-storage.appdomain.cloud/IBMDeveloperSkillsNetwork-DS0105EN-SkillsNetwork/labs/Module2/images/SN_web_lightmode.png\" width=\"300\" alt=\"cognitiveclass.ai logo\">\n",
    "</center>\n"
   ]
  },
  {
   "cell_type": "markdown",
   "metadata": {},
   "source": [
    "#### Add your code below following the instructions given in the course\n"
   ]
  },
  {
   "cell_type": "markdown",
   "metadata": {},
   "source": [
    "***project 1***\n",
    "# I will be coding to answer questions \n",
    "# list of data science languages\n",
    "- Python\n",
    "- R\n",
    "- Julia \n",
    "- Java\n",
    "- C++\n",
    "- SQL\n",
    "\n",
    "# list of data science libraries\n",
    "- NumPy \n",
    "- Pandas\n",
    "- ggplot2 \n",
    "- matplotlib\n",
    "- Lattice\n",
    "\n",
    "|Data science tools table|\n",
    "|------------------------|\n",
    "| apache spark|\n",
    "|Rstudio|\n",
    "\n",
    "# arithmetic expression examples\n",
    "- 2+2\n",
    "- 1+7\n",
    "\n",
    "\n"
   ]
  },
  {
   "cell_type": "code",
   "execution_count": 6,
   "metadata": {
    "tags": []
   },
   "outputs": [
    {
     "name": "stdout",
     "output_type": "stream",
     "text": [
      "45\n"
     ]
    }
   ],
   "source": [
    "#  Create a code cell to multiply and add numbers.\n",
    "\n",
    "x= 2+7\n",
    "y = 2+3\n",
    "print(x*y)\n",
    "\n",
    "\n"
   ]
  },
  {
   "cell_type": "code",
   "execution_count": 24,
   "metadata": {
    "tags": []
   },
   "outputs": [
    {
     "name": "stdin",
     "output_type": "stream",
     "text": [
      "how many minutes do you want to convert to hours? 120\n"
     ]
    },
    {
     "name": "stdout",
     "output_type": "stream",
     "text": [
      "120 minutes equals 2.0 hours!\n"
     ]
    }
   ],
   "source": [
    "#  Create a code cell to convert minutes to hours.\n",
    "\n",
    "x = int(input(\"how many minutes do you want to convert to hours?\"))\n",
    "\n",
    "hours = x / 60\n",
    "\n",
    "print(str(x)+ \" minutes equals \" + str(hours) + \" hours!\")\n"
   ]
  },
  {
   "cell_type": "markdown",
   "metadata": {},
   "source": [
    "# objective: practice python!\n",
    "# author: Zoha Abbasi "
   ]
  },
  {
   "cell_type": "code",
   "execution_count": null,
   "metadata": {},
   "outputs": [],
   "source": []
  }
 ],
 "metadata": {
  "kernelspec": {
   "display_name": "Python",
   "language": "python",
   "name": "conda-env-python-py"
  },
  "language_info": {
   "codemirror_mode": {
    "name": "ipython",
    "version": 3
   },
   "file_extension": ".py",
   "mimetype": "text/x-python",
   "name": "python",
   "nbconvert_exporter": "python",
   "pygments_lexer": "ipython3",
   "version": "3.7.12"
  }
 },
 "nbformat": 4,
 "nbformat_minor": 4
}
